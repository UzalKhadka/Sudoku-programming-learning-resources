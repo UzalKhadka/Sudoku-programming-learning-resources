{
 "cells": [
  {
   "cell_type": "code",
   "execution_count": 1,
   "metadata": {},
   "outputs": [],
   "source": [
    "# This code was written from the Computerphile video on YouTube\n",
    "\n",
    "# Python Sudoku Solver using Backtracking Algorithm\n",
    "\n",
    "# Video Title - Python Sudoku Solver - Computerphile\n",
    "\n",
    "# Video Link - <https://www.youtube.com/watch?v=G_UYXzGuqvM>\n",
    "\n",
    "# Channel Name - Computerphile\n",
    "\n",
    "# Channel Link - <https://www.youtube.com/user/Computerphile>\n",
    "\n",
    "# Credits - Computerphile team and Professor Thorsten Altenkirch"
   ]
  },
  {
   "cell_type": "code",
   "execution_count": 2,
   "metadata": {},
   "outputs": [],
   "source": [
    "# importing the required libraries\n",
    "import numpy as np\n"
   ]
  },
  {
   "cell_type": "code",
   "execution_count": 22,
   "metadata": {},
   "outputs": [
    {
     "data": {
      "text/plain": [
       "array([[5, 3, 0, 0, 7, 0, 0, 0, 0],\n",
       "       [6, 0, 0, 1, 9, 5, 0, 0, 0],\n",
       "       [0, 9, 8, 0, 0, 0, 0, 6, 0],\n",
       "       [8, 0, 0, 0, 6, 0, 0, 0, 3],\n",
       "       [4, 0, 0, 8, 0, 3, 0, 0, 1],\n",
       "       [7, 0, 0, 0, 2, 0, 0, 0, 6],\n",
       "       [0, 6, 0, 0, 0, 0, 2, 8, 0],\n",
       "       [0, 0, 0, 4, 1, 9, 0, 0, 5],\n",
       "       [0, 0, 0, 0, 8, 0, 0, 7, 9]])"
      ]
     },
     "execution_count": 22,
     "metadata": {},
     "output_type": "execute_result"
    }
   ],
   "source": [
    "# defining the board\n",
    "grid = [\n",
    "    [5, 3, 0, 0, 7, 0, 0, 0, 0],\n",
    "    [6, 0, 0, 1, 9, 5, 0, 0, 0],\n",
    "    [0, 9, 8, 0, 0, 0, 0, 6, 0],\n",
    "    [8, 0, 0, 0, 6, 0, 0, 0, 3],\n",
    "    [4, 0, 0, 8, 0, 3, 0, 0, 1],\n",
    "    [7, 0, 0, 0, 2, 0, 0, 0, 6],\n",
    "    [0, 6, 0, 0, 0, 0, 2, 8, 0],\n",
    "    [0, 0, 0, 4, 1, 9, 0, 0, 5],\n",
    "    [0, 0, 0, 0, 8, 0, 0, 7, 9],\n",
    "]\n",
    "\n",
    "# numpy array of the board as np array operation is faster than list and pretty to print\n",
    "grid_arr = np.array(grid) \n",
    "grid_arr"
   ]
  },
  {
   "cell_type": "code",
   "execution_count": 23,
   "metadata": {},
   "outputs": [],
   "source": [
    "# defining the function to check whether a selected row, column, and number is valid or not\n",
    "def possible(y, x, n):\n",
    "    global grid # using the global variable\n",
    "    for i in range(9):\n",
    "        if grid[y][i] == n: # checking whether the number is already present in the row\n",
    "            return False\n",
    "    for i in range(9):\n",
    "        if grid[i][x] == n: # checking whether the number is already present in the column\n",
    "            return False\n",
    "    \n",
    "    x0 = (x//3)*3 # finding the starting x point of the 3x3 block\n",
    "    y0 = (y//3)*3 # finding the starting y point of the 3x3 block\n",
    "    for i in range(3):\n",
    "        for j in range(3):\n",
    "            if grid[y0+i][x0+j] == n: # checking whether the number is already present in the 3x3 block\n",
    "                return False\n",
    "    return True"
   ]
  },
  {
   "cell_type": "code",
   "execution_count": 24,
   "metadata": {},
   "outputs": [
    {
     "data": {
      "text/plain": [
       "False"
      ]
     },
     "execution_count": 24,
     "metadata": {},
     "output_type": "execute_result"
    }
   ],
   "source": [
    "# checking the function\n",
    "possible(4, 4, 3) # from the output we can see that the number 3 is present in the row, column, or in 3x3 block"
   ]
  },
  {
   "cell_type": "code",
   "execution_count": 25,
   "metadata": {},
   "outputs": [
    {
     "data": {
      "text/plain": [
       "True"
      ]
     },
     "execution_count": 25,
     "metadata": {},
     "output_type": "execute_result"
    }
   ],
   "source": [
    "possible(4, 4, 5) # from the output we can see that the number 5 is present in the row, column, or in 3x3 block"
   ]
  },
  {
   "cell_type": "code",
   "execution_count": 28,
   "metadata": {},
   "outputs": [],
   "source": [
    "def solve():\n",
    "    global grid # using the global variable\n",
    "    \n",
    "    # checking for the empty space in the board\n",
    "    for y in range(9):\n",
    "        for x in range(9):\n",
    "            if grid[y][x] == 0: # checking for an empty cell\n",
    "                for n in range(1, 10):\n",
    "                    if possible(y, x, n):\n",
    "                        grid[y][x] = n # assigning the number to the empty cell\n",
    "                        solve()\n",
    "                        grid[y][x] = 0 # backtracking\n",
    "                return\n",
    "    print(np.array(grid)) # printing the board\n",
    "    \n",
    "    input(\"More?\") # asking the user whether he/she wants to see more solutions or not"
   ]
  },
  {
   "cell_type": "code",
   "execution_count": 29,
   "metadata": {},
   "outputs": [
    {
     "name": "stdout",
     "output_type": "stream",
     "text": [
      "[[5 3 4 6 7 8 9 1 2]\n",
      " [6 7 2 1 9 5 3 4 8]\n",
      " [1 9 8 3 4 2 5 6 7]\n",
      " [8 5 9 7 6 1 4 2 3]\n",
      " [4 2 6 8 5 3 7 9 1]\n",
      " [7 1 3 9 2 4 8 5 6]\n",
      " [9 6 1 5 3 7 2 8 4]\n",
      " [2 8 7 4 1 9 6 3 5]\n",
      " [3 4 5 2 8 6 1 7 9]]\n",
      "[[5 3 0 0 7 0 0 0 0]\n",
      " [6 0 0 1 9 5 0 0 0]\n",
      " [0 9 8 0 0 0 0 6 0]\n",
      " [8 0 0 0 6 0 0 0 3]\n",
      " [4 0 0 8 0 3 0 0 1]\n",
      " [7 0 0 0 2 0 0 0 6]\n",
      " [0 6 0 0 0 0 2 8 0]\n",
      " [0 0 0 4 1 9 0 0 5]\n",
      " [0 0 0 0 8 0 0 7 9]]\n"
     ]
    }
   ],
   "source": [
    "solve()\n",
    "print(grid_arr)"
   ]
  },
  {
   "cell_type": "code",
   "execution_count": null,
   "metadata": {},
   "outputs": [],
   "source": []
  }
 ],
 "metadata": {
  "kernelspec": {
   "display_name": "Python 3.10.6 64-bit",
   "language": "python",
   "name": "python3"
  },
  "language_info": {
   "codemirror_mode": {
    "name": "ipython",
    "version": 3
   },
   "file_extension": ".py",
   "mimetype": "text/x-python",
   "name": "python",
   "nbconvert_exporter": "python",
   "pygments_lexer": "ipython3",
   "version": "3.10.6"
  },
  "orig_nbformat": 4,
  "vscode": {
   "interpreter": {
    "hash": "369f2c481f4da34e4445cda3fffd2e751bd1c4d706f27375911949ba6bb62e1c"
   }
  }
 },
 "nbformat": 4,
 "nbformat_minor": 2
}
